{
 "cells": [
  {
   "cell_type": "code",
   "execution_count": 1,
   "metadata": {},
   "outputs": [
    {
     "data": {
      "text/plain": [
       "\"C:\\\\Users\\\\user\""
      ]
     },
     "execution_count": 1,
     "metadata": {},
     "output_type": "execute_result"
    }
   ],
   "source": [
    "pwd()"
   ]
  },
  {
   "cell_type": "code",
   "execution_count": 2,
   "metadata": {},
   "outputs": [],
   "source": [
    "using CSV"
   ]
  },
  {
   "cell_type": "code",
   "execution_count": 3,
   "metadata": {},
   "outputs": [],
   "source": [
    "using Pkg"
   ]
  },
  {
   "cell_type": "code",
   "execution_count": 4,
   "metadata": {},
   "outputs": [],
   "source": [
    "using SparseArrays"
   ]
  },
  {
   "cell_type": "code",
   "execution_count": 5,
   "metadata": {},
   "outputs": [],
   "source": [
    "using Images"
   ]
  },
  {
   "cell_type": "code",
   "execution_count": 6,
   "metadata": {},
   "outputs": [
    {
     "ename": "ArgumentError",
     "evalue": "\u001b[91mArgumentError: Package MAT not found in current path:\u001b[39m\n\u001b[91m- Run `import Pkg; Pkg.add(\"MAT\")` to install the MAT package.\u001b[39m\n",
     "output_type": "error",
     "traceback": [
      "\u001b[91mArgumentError: Package MAT not found in current path:\u001b[39m\n\u001b[91m- Run `import Pkg; Pkg.add(\"MAT\")` to install the MAT package.\u001b[39m\n",
      "",
      "Stacktrace:",
      " [1] require(::Module, ::Symbol) at .\\loading.jl:823",
      " [2] top-level scope at In[6]:1"
     ]
    }
   ],
   "source": [
    "using MAT"
   ]
  },
  {
   "cell_type": "code",
   "execution_count": 7,
   "metadata": {},
   "outputs": [
    {
     "name": "stdout",
     "output_type": "stream",
     "text": [
      "\u001b[32m\u001b[1m  Updating\u001b[22m\u001b[39m registry at `C:\\Users\\user\\.julia\\registries\\General`\n",
      "\u001b[32m\u001b[1m  Updating\u001b[22m\u001b[39m git-repo `https://github.com/JuliaRegistries/General.git`\n",
      "\u001b[2K\u001b[?25h[1mFetching:\u001b[22m\u001b[39m [========================================>]  100.0 %.0 %\u001b[32m\u001b[1m Resolving\u001b[22m\u001b[39m package versions...\n"
     ]
    },
    {
     "ename": "Pkg.Types.ResolverError",
     "evalue": "\u001b[91mUnsatisfiable requirements detected for package Blosc [a74b3585]:\u001b[39m\n\u001b[91m Blosc [a74b3585] log:\u001b[39m\n\u001b[91m ├─possible versions are: [0.5.1, 0.6.0, 0.7.0] or uninstalled\u001b[39m\n\u001b[91m ├─restricted by julia compatibility requirements to versions: [0.5.1, 0.6.0] or uninstalled\u001b[39m\n\u001b[91m ├─restricted by compatibility requirements with HDF5 [f67ccb44] to versions: 0.5.1\u001b[39m\n\u001b[91m │ └─HDF5 [f67ccb44] log:\u001b[39m\n\u001b[91m │   ├─possible versions are: [0.9.4-0.9.5, 0.10.0-0.10.4, 0.11.0-0.11.1, 0.12.0-0.12.5, 0.13.0-0.13.7, 0.14.0-0.14.3, 0.15.0-0.15.4] or uninstalled\u001b[39m\n\u001b[91m │   ├─restricted by julia compatibility requirements to versions: [0.9.4-0.9.5, 0.10.0-0.10.4, 0.11.0-0.11.1, 0.12.0-0.12.5] or uninstalled\u001b[39m\n\u001b[91m │   └─restricted by compatibility requirements with MAT [23992714] to versions: [0.11.0-0.11.1, 0.12.0-0.12.5]\u001b[39m\n\u001b[91m │     └─MAT [23992714] log:\u001b[39m\n\u001b[91m │       ├─possible versions are: [0.5.0-0.5.1, 0.6.0, 0.7.0, 0.8.0-0.8.1, 0.9.0-0.9.2, 0.10.0-0.10.1] or uninstalled\u001b[39m\n\u001b[91m │       ├─restricted to versions * by an explicit requirement, leaving only versions [0.5.0-0.5.1, 0.6.0, 0.7.0, 0.8.0-0.8.1, 0.9.0-0.9.2, 0.10.0-0.10.1]\u001b[39m\n\u001b[91m │       └─restricted by julia compatibility requirements to versions: [0.5.0-0.5.1, 0.6.0, 0.7.0] or uninstalled, leaving only versions: [0.5.0-0.5.1, 0.6.0, 0.7.0]\u001b[39m\n\u001b[91m └─restricted by compatibility requirements with Compat [34da2185] to versions: [0.6.0, 0.7.0] or uninstalled — no versions left\u001b[39m\n\u001b[91m   └─Compat [34da2185] log:\u001b[39m\n\u001b[91m     ├─possible versions are: [1.0.0-1.0.1, 1.1.0, 1.2.0, 1.3.0, 1.4.0, 1.5.0-1.5.1, 2.0.0, 2.1.0, 2.2.0-2.2.1, 3.0.0, 3.1.0, 3.2.0, 3.3.0-3.3.1, 3.4.0, 3.5.0, 3.6.0, 3.7.0, 3.8.0, 3.9.0-3.9.1, 3.10.0, 3.11.0, 3.12.0, 3.13.0, 3.14.0, 3.15.0, 3.16.0, 3.17.0, 3.18.0, 3.19.0, 3.20.0, 3.21.0, 3.22.0, 3.23.0, 3.24.0, 3.25.0] or uninstalled\u001b[39m\n\u001b[91m     └─restricted by compatibility requirements with DataFrames [a93c6f00] to versions: [3.17.0, 3.18.0, 3.19.0, 3.20.0, 3.21.0, 3.22.0, 3.23.0, 3.24.0, 3.25.0]\u001b[39m\n\u001b[91m       └─DataFrames [a93c6f00] log:\u001b[39m\n\u001b[91m         ├─possible versions are: [0.11.7, 0.12.0, 0.13.0-0.13.1, 0.14.0-0.14.1, 0.15.0-0.15.2, 0.16.0, 0.17.0-0.17.1, 0.18.0-0.18.4, 0.19.0-0.19.4, 0.20.0-0.20.2, 0.21.0-0.21.8, 0.22.0-0.22.6] or uninstalled\u001b[39m\n\u001b[91m         └─restricted to versions 0.22.6 by an explicit requirement, leaving only versions 0.22.6\u001b[39m",
     "output_type": "error",
     "traceback": [
      "\u001b[91mUnsatisfiable requirements detected for package Blosc [a74b3585]:\u001b[39m\n\u001b[91m Blosc [a74b3585] log:\u001b[39m\n\u001b[91m ├─possible versions are: [0.5.1, 0.6.0, 0.7.0] or uninstalled\u001b[39m\n\u001b[91m ├─restricted by julia compatibility requirements to versions: [0.5.1, 0.6.0] or uninstalled\u001b[39m\n\u001b[91m ├─restricted by compatibility requirements with HDF5 [f67ccb44] to versions: 0.5.1\u001b[39m\n\u001b[91m │ └─HDF5 [f67ccb44] log:\u001b[39m\n\u001b[91m │   ├─possible versions are: [0.9.4-0.9.5, 0.10.0-0.10.4, 0.11.0-0.11.1, 0.12.0-0.12.5, 0.13.0-0.13.7, 0.14.0-0.14.3, 0.15.0-0.15.4] or uninstalled\u001b[39m\n\u001b[91m │   ├─restricted by julia compatibility requirements to versions: [0.9.4-0.9.5, 0.10.0-0.10.4, 0.11.0-0.11.1, 0.12.0-0.12.5] or uninstalled\u001b[39m\n\u001b[91m │   └─restricted by compatibility requirements with MAT [23992714] to versions: [0.11.0-0.11.1, 0.12.0-0.12.5]\u001b[39m\n\u001b[91m │     └─MAT [23992714] log:\u001b[39m\n\u001b[91m │       ├─possible versions are: [0.5.0-0.5.1, 0.6.0, 0.7.0, 0.8.0-0.8.1, 0.9.0-0.9.2, 0.10.0-0.10.1] or uninstalled\u001b[39m\n\u001b[91m │       ├─restricted to versions * by an explicit requirement, leaving only versions [0.5.0-0.5.1, 0.6.0, 0.7.0, 0.8.0-0.8.1, 0.9.0-0.9.2, 0.10.0-0.10.1]\u001b[39m\n\u001b[91m │       └─restricted by julia compatibility requirements to versions: [0.5.0-0.5.1, 0.6.0, 0.7.0] or uninstalled, leaving only versions: [0.5.0-0.5.1, 0.6.0, 0.7.0]\u001b[39m\n\u001b[91m └─restricted by compatibility requirements with Compat [34da2185] to versions: [0.6.0, 0.7.0] or uninstalled — no versions left\u001b[39m\n\u001b[91m   └─Compat [34da2185] log:\u001b[39m\n\u001b[91m     ├─possible versions are: [1.0.0-1.0.1, 1.1.0, 1.2.0, 1.3.0, 1.4.0, 1.5.0-1.5.1, 2.0.0, 2.1.0, 2.2.0-2.2.1, 3.0.0, 3.1.0, 3.2.0, 3.3.0-3.3.1, 3.4.0, 3.5.0, 3.6.0, 3.7.0, 3.8.0, 3.9.0-3.9.1, 3.10.0, 3.11.0, 3.12.0, 3.13.0, 3.14.0, 3.15.0, 3.16.0, 3.17.0, 3.18.0, 3.19.0, 3.20.0, 3.21.0, 3.22.0, 3.23.0, 3.24.0, 3.25.0] or uninstalled\u001b[39m\n\u001b[91m     └─restricted by compatibility requirements with DataFrames [a93c6f00] to versions: [3.17.0, 3.18.0, 3.19.0, 3.20.0, 3.21.0, 3.22.0, 3.23.0, 3.24.0, 3.25.0]\u001b[39m\n\u001b[91m       └─DataFrames [a93c6f00] log:\u001b[39m\n\u001b[91m         ├─possible versions are: [0.11.7, 0.12.0, 0.13.0-0.13.1, 0.14.0-0.14.1, 0.15.0-0.15.2, 0.16.0, 0.17.0-0.17.1, 0.18.0-0.18.4, 0.19.0-0.19.4, 0.20.0-0.20.2, 0.21.0-0.21.8, 0.22.0-0.22.6] or uninstalled\u001b[39m\n\u001b[91m         └─restricted to versions 0.22.6 by an explicit requirement, leaving only versions 0.22.6\u001b[39m",
      "",
      "Stacktrace:",
      " [1] #propagate_constraints!#61(::Bool, ::Function, ::Pkg.GraphType.Graph, ::Set{Int64}) at C:\\cygwin\\home\\Administrator\\buildbot\\worker\\package_win64\\build\\usr\\share\\julia\\stdlib\\v1.0\\Pkg\\src\\GraphType.jl:1007",
      " [2] propagate_constraints! at C:\\cygwin\\home\\Administrator\\buildbot\\worker\\package_win64\\build\\usr\\share\\julia\\stdlib\\v1.0\\Pkg\\src\\GraphType.jl:948 [inlined]",
      " [3] #simplify_graph!#121(::Bool, ::Function, ::Pkg.GraphType.Graph, ::Set{Int64}) at C:\\cygwin\\home\\Administrator\\buildbot\\worker\\package_win64\\build\\usr\\share\\julia\\stdlib\\v1.0\\Pkg\\src\\GraphType.jl:1462",
      " [4] simplify_graph! at C:\\cygwin\\home\\Administrator\\buildbot\\worker\\package_win64\\build\\usr\\share\\julia\\stdlib\\v1.0\\Pkg\\src\\GraphType.jl:1462 [inlined] (repeats 2 times)",
      " [5] resolve_versions!(::Pkg.Types.Context, ::Array{Pkg.Types.PackageSpec,1}, ::Nothing) at C:\\cygwin\\home\\Administrator\\buildbot\\worker\\package_win64\\build\\usr\\share\\julia\\stdlib\\v1.0\\Pkg\\src\\Operations.jl:373",
      " [6] resolve_versions! at C:\\cygwin\\home\\Administrator\\buildbot\\worker\\package_win64\\build\\usr\\share\\julia\\stdlib\\v1.0\\Pkg\\src\\Operations.jl:316 [inlined]",
      " [7] #add_or_develop#62(::Array{Base.UUID,1}, ::Symbol, ::Function, ::Pkg.Types.Context, ::Array{Pkg.Types.PackageSpec,1}) at C:\\cygwin\\home\\Administrator\\buildbot\\worker\\package_win64\\build\\usr\\share\\julia\\stdlib\\v1.0\\Pkg\\src\\Operations.jl:1201",
      " [8] #add_or_develop at .\\none:0 [inlined]",
      " [9] #add_or_develop#15(::Symbol, ::Bool, ::Base.Iterators.Pairs{Union{},Union{},Tuple{},NamedTuple{(),Tuple{}}}, ::Function, ::Pkg.Types.Context, ::Array{Pkg.Types.PackageSpec,1}) at C:\\cygwin\\home\\Administrator\\buildbot\\worker\\package_win64\\build\\usr\\share\\julia\\stdlib\\v1.0\\Pkg\\src\\API.jl:69",
      " [10] #add_or_develop at .\\none:0 [inlined]",
      " [11] #add_or_develop#14 at C:\\cygwin\\home\\Administrator\\buildbot\\worker\\package_win64\\build\\usr\\share\\julia\\stdlib\\v1.0\\Pkg\\src\\API.jl:34 [inlined]",
      " [12] #add_or_develop at .\\none:0 [inlined]",
      " [13] #add_or_develop#11 at C:\\cygwin\\home\\Administrator\\buildbot\\worker\\package_win64\\build\\usr\\share\\julia\\stdlib\\v1.0\\Pkg\\src\\API.jl:33 [inlined]",
      " [14] #add_or_develop at .\\none:0 [inlined]",
      " [15] #add_or_develop#10 at C:\\cygwin\\home\\Administrator\\buildbot\\worker\\package_win64\\build\\usr\\share\\julia\\stdlib\\v1.0\\Pkg\\src\\API.jl:32 [inlined]",
      " [16] #add_or_develop at .\\none:0 [inlined]",
      " [17] #add#20 at C:\\cygwin\\home\\Administrator\\buildbot\\worker\\package_win64\\build\\usr\\share\\julia\\stdlib\\v1.0\\Pkg\\src\\API.jl:74 [inlined]",
      " [18] add(::String) at C:\\cygwin\\home\\Administrator\\buildbot\\worker\\package_win64\\build\\usr\\share\\julia\\stdlib\\v1.0\\Pkg\\src\\API.jl:74",
      " [19] top-level scope at In[7]:1"
     ]
    }
   ],
   "source": [
    "Pkg.add(\"MAT\")"
   ]
  },
  {
   "cell_type": "code",
   "execution_count": 8,
   "metadata": {},
   "outputs": [
    {
     "name": "stdout",
     "output_type": "stream",
     "text": [
      "Julia Version 1.0.5\n",
      "Commit 3af96bcefc (2019-09-09 19:06 UTC)\n",
      "Platform Info:\n",
      "  OS: Windows (x86_64-w64-mingw32)\n",
      "  CPU: Intel(R) Core(TM) i3-1005G1 CPU @ 1.20GHz\n",
      "  WORD_SIZE: 64\n",
      "  LIBM: libopenlibm\n",
      "  LLVM: libLLVM-6.0.0 (ORCJIT, cannonlake)\n"
     ]
    }
   ],
   "source": [
    "versioninfo()"
   ]
  },
  {
   "cell_type": "code",
   "execution_count": 9,
   "metadata": {},
   "outputs": [
    {
     "data": {
      "text/plain": [
       "3-element Array{String,1}:\n",
       " \"@\"      \n",
       " \"@v#.#\"  \n",
       " \"@stdlib\""
      ]
     },
     "execution_count": 9,
     "metadata": {},
     "output_type": "execute_result"
    }
   ],
   "source": [
    "LOAD_PATH"
   ]
  },
  {
   "cell_type": "markdown",
   "metadata": {},
   "source": [
    "### 10 by 10 랜덤 행렬 생성"
   ]
  },
  {
   "cell_type": "code",
   "execution_count": 10,
   "metadata": {},
   "outputs": [],
   "source": [
    "A = rand(10,10); # created a random matrix of size 10-by-10\n",
    "Atranspose = A' # matrix transpose\n",
    "A = A*Atranspose; # matrix multiplication"
   ]
  },
  {
   "cell_type": "code",
   "execution_count": 11,
   "metadata": {},
   "outputs": [
    {
     "name": "stdout",
     "output_type": "stream",
     "text": [
      "A[11] == A[1, 2] = true\n"
     ]
    }
   ],
   "source": [
    "@show A[11] == A[1,2];"
   ]
  },
  {
   "cell_type": "code",
   "execution_count": 12,
   "metadata": {},
   "outputs": [
    {
     "name": "stdout",
     "output_type": "stream",
     "text": [
      "[1.88805 1.25871 1.14864 1.52415 1.83555 2.48569 2.06271 1.57296 2.03691 1.2177; 1.25871 1.36246 0.839525 0.921591 1.44917 1.76563 1.44639 1.20787 1.34721 0.949679; 1.14864 0.839525 2.31586 1.43725 1.40476 2.25714 1.89824 1.82036 2.69256 1.03325; 1.52415 0.921591 1.43725 2.67212 1.86546 2.3696 2.47356 1.59321 2.90096 1.24972; 1.83555 1.44917 1.40476 1.86546 2.55756 2.82442 2.14604 1.75932 2.80485 1.90344; 2.48569 1.76563 2.25714 2.3696 2.82442 4.26273 2.95645 2.45757 3.77188 2.12184; 2.06271 1.44639 1.89824 2.47356 2.14604 2.95645 3.19703 2.34188 2.78863 1.29009; 1.57296 1.20787 1.82036 1.59321 1.75932 2.45757 2.34188 2.52865 2.26621 1.08152; 2.03691 1.34721 2.69256 2.90096 2.80485 3.77188 2.78863 2.26621 4.59718 2.21915; 1.2177 0.949679 1.03325 1.24972 1.90344 2.12184 1.29009 1.08152 2.21915 1.57734]"
     ]
    }
   ],
   "source": [
    "print(A)"
   ]
  },
  {
   "cell_type": "code",
   "execution_count": 13,
   "metadata": {},
   "outputs": [
    {
     "name": "stdout",
     "output_type": "stream",
     "text": [
      "1.2587119710592145"
     ]
    }
   ],
   "source": [
    "print(A[1,2])"
   ]
  },
  {
   "cell_type": "code",
   "execution_count": 14,
   "metadata": {},
   "outputs": [
    {
     "name": "stdout",
     "output_type": "stream",
     "text": [
      "1.2587119710592145"
     ]
    }
   ],
   "source": [
    "print(A[11])"
   ]
  },
  {
   "cell_type": "code",
   "execution_count": 15,
   "metadata": {},
   "outputs": [
    {
     "data": {
      "text/plain": [
       "Array{Float64,2}"
      ]
     },
     "execution_count": 15,
     "metadata": {},
     "output_type": "execute_result"
    }
   ],
   "source": [
    "typeof(A)"
   ]
  },
  {
   "cell_type": "code",
   "execution_count": 16,
   "metadata": {},
   "outputs": [
    {
     "name": "stderr",
     "output_type": "stream",
     "text": [
      "┌ Info: Recompiling stale cache file C:\\Users\\user\\.julia\\compiled\\v1.0\\DataFrames\\AR9oZ.ji for DataFrames [a93c6f00-e57d-5684-b7b6-d8193f3e46c0]\n",
      "└ @ Base loading.jl:1190\n"
     ]
    }
   ],
   "source": [
    "using DataFrames"
   ]
  },
  {
   "cell_type": "code",
   "execution_count": 17,
   "metadata": {},
   "outputs": [
    {
     "ename": "MethodError",
     "evalue": "\u001b[91mMethodError: objects of type Module are not callable\u001b[39m",
     "output_type": "error",
     "traceback": [
      "\u001b[91mMethodError: objects of type Module are not callable\u001b[39m",
      "",
      "Stacktrace:",
      " [1] top-level scope at In[17]:1"
     ]
    }
   ],
   "source": [
    "DataFrames(A, :auto)"
   ]
  },
  {
   "cell_type": "markdown",
   "metadata": {},
   "source": [
    "- 지금은 바로 DataFrames로 변환되지 않음"
   ]
  },
  {
   "cell_type": "code",
   "execution_count": 18,
   "metadata": {},
   "outputs": [
    {
     "data": {
      "text/plain": [
       "100"
      ]
     },
     "execution_count": 18,
     "metadata": {},
     "output_type": "execute_result"
    }
   ],
   "source": [
    "length(A)"
   ]
  },
  {
   "cell_type": "code",
   "execution_count": 19,
   "metadata": {},
   "outputs": [
    {
     "data": {
      "text/plain": [
       "10×10 LinearAlgebra.Adjoint{Float64,Array{Float64,2}}:\n",
       " 0.849015     0.434377   0.169604   …  0.41018    0.82755    0.340483 \n",
       " 0.468523     0.216552   0.310926      0.953631   0.0576126  0.0907428\n",
       " 0.0830465    0.15905    0.718196      0.437268   0.783168   0.0875365\n",
       " 0.311439     0.0480774  0.271169      0.189246   0.894074   0.877698 \n",
       " 0.491105     0.748231   0.0922311     0.488519   0.103795   0.299188 \n",
       " 0.0855376    0.316723   0.901707   …  0.492303   0.689245   0.239397 \n",
       " 0.520205     0.63797    0.244514      0.259261   0.506603   0.537436 \n",
       " 0.310837     0.0234706  0.624671      0.791463   0.810098   0.191791 \n",
       " 0.000883942  0.168795   0.0866341     0.218285   0.772693   0.40018  \n",
       " 0.477581     0.0552938  0.567445      0.0409615  0.707464   0.206315 "
      ]
     },
     "execution_count": 19,
     "metadata": {},
     "output_type": "execute_result"
    }
   ],
   "source": [
    "Atranspose"
   ]
  },
  {
   "cell_type": "code",
   "execution_count": 21,
   "metadata": {},
   "outputs": [
    {
     "data": {
      "text/plain": [
       "0.4343766811729277"
      ]
     },
     "execution_count": 21,
     "metadata": {},
     "output_type": "execute_result"
    }
   ],
   "source": [
    "Atranspose[1,2]"
   ]
  },
  {
   "cell_type": "code",
   "execution_count": 22,
   "metadata": {},
   "outputs": [
    {
     "ename": "UndefVarError",
     "evalue": "\u001b[91mUndefVarError: norm not defined\u001b[39m",
     "output_type": "error",
     "traceback": [
      "\u001b[91mUndefVarError: norm not defined\u001b[39m",
      "",
      "Stacktrace:",
      " [1] top-level scope at show.jl:555",
      " [2] top-level scope at In[22]:3"
     ]
    }
   ],
   "source": [
    "b = rand(10); #created a random vector of size 10\n",
    "x = A\\b; #x is the solutions to the linear system Ax=b\n",
    "@show norm(A*x-b)\n",
    ";"
   ]
  },
  {
   "cell_type": "code",
   "execution_count": 23,
   "metadata": {},
   "outputs": [
    {
     "ename": "ArgumentError",
     "evalue": "\u001b[91mArgumentError: Package MAT not found in current path:\u001b[39m\n\u001b[91m- Run `import Pkg; Pkg.add(\"MAT\")` to install the MAT package.\u001b[39m\n",
     "output_type": "error",
     "traceback": [
      "\u001b[91mArgumentError: Package MAT not found in current path:\u001b[39m\n\u001b[91m- Run `import Pkg; Pkg.add(\"MAT\")` to install the MAT package.\u001b[39m\n",
      "",
      "Stacktrace:",
      " [1] require(::Module, ::Symbol) at .\\loading.jl:823",
      " [2] top-level scope at In[23]:1"
     ]
    }
   ],
   "source": [
    "using MAT"
   ]
  },
  {
   "cell_type": "code",
   "execution_count": 24,
   "metadata": {},
   "outputs": [
    {
     "name": "stdout",
     "output_type": "stream",
     "text": [
      "\u001b[32m\u001b[1m Resolving\u001b[22m\u001b[39m package versions...\n"
     ]
    },
    {
     "ename": "Pkg.Types.ResolverError",
     "evalue": "\u001b[91mUnsatisfiable requirements detected for package Blosc [a74b3585]:\u001b[39m\n\u001b[91m Blosc [a74b3585] log:\u001b[39m\n\u001b[91m ├─possible versions are: [0.5.1, 0.6.0, 0.7.0] or uninstalled\u001b[39m\n\u001b[91m ├─restricted by julia compatibility requirements to versions: [0.5.1, 0.6.0] or uninstalled\u001b[39m\n\u001b[91m ├─restricted by compatibility requirements with HDF5 [f67ccb44] to versions: 0.5.1\u001b[39m\n\u001b[91m │ └─HDF5 [f67ccb44] log:\u001b[39m\n\u001b[91m │   ├─possible versions are: [0.9.4-0.9.5, 0.10.0-0.10.4, 0.11.0-0.11.1, 0.12.0-0.12.5, 0.13.0-0.13.7, 0.14.0-0.14.3, 0.15.0-0.15.4] or uninstalled\u001b[39m\n\u001b[91m │   ├─restricted by julia compatibility requirements to versions: [0.9.4-0.9.5, 0.10.0-0.10.4, 0.11.0-0.11.1, 0.12.0-0.12.5] or uninstalled\u001b[39m\n\u001b[91m │   └─restricted by compatibility requirements with MAT [23992714] to versions: [0.11.0-0.11.1, 0.12.0-0.12.5]\u001b[39m\n\u001b[91m │     └─MAT [23992714] log:\u001b[39m\n\u001b[91m │       ├─possible versions are: [0.5.0-0.5.1, 0.6.0, 0.7.0, 0.8.0-0.8.1, 0.9.0-0.9.2, 0.10.0-0.10.1] or uninstalled\u001b[39m\n\u001b[91m │       ├─restricted to versions * by an explicit requirement, leaving only versions [0.5.0-0.5.1, 0.6.0, 0.7.0, 0.8.0-0.8.1, 0.9.0-0.9.2, 0.10.0-0.10.1]\u001b[39m\n\u001b[91m │       └─restricted by julia compatibility requirements to versions: [0.5.0-0.5.1, 0.6.0, 0.7.0] or uninstalled, leaving only versions: [0.5.0-0.5.1, 0.6.0, 0.7.0]\u001b[39m\n\u001b[91m └─restricted by compatibility requirements with Compat [34da2185] to versions: [0.6.0, 0.7.0] or uninstalled — no versions left\u001b[39m\n\u001b[91m   └─Compat [34da2185] log:\u001b[39m\n\u001b[91m     ├─possible versions are: [1.0.0-1.0.1, 1.1.0, 1.2.0, 1.3.0, 1.4.0, 1.5.0-1.5.1, 2.0.0, 2.1.0, 2.2.0-2.2.1, 3.0.0, 3.1.0, 3.2.0, 3.3.0-3.3.1, 3.4.0, 3.5.0, 3.6.0, 3.7.0, 3.8.0, 3.9.0-3.9.1, 3.10.0, 3.11.0, 3.12.0, 3.13.0, 3.14.0, 3.15.0, 3.16.0, 3.17.0, 3.18.0, 3.19.0, 3.20.0, 3.21.0, 3.22.0, 3.23.0, 3.24.0, 3.25.0] or uninstalled\u001b[39m\n\u001b[91m     └─restricted by compatibility requirements with DataFrames [a93c6f00] to versions: [3.17.0, 3.18.0, 3.19.0, 3.20.0, 3.21.0, 3.22.0, 3.23.0, 3.24.0, 3.25.0]\u001b[39m\n\u001b[91m       └─DataFrames [a93c6f00] log:\u001b[39m\n\u001b[91m         ├─possible versions are: [0.11.7, 0.12.0, 0.13.0-0.13.1, 0.14.0-0.14.1, 0.15.0-0.15.2, 0.16.0, 0.17.0-0.17.1, 0.18.0-0.18.4, 0.19.0-0.19.4, 0.20.0-0.20.2, 0.21.0-0.21.8, 0.22.0-0.22.6] or uninstalled\u001b[39m\n\u001b[91m         └─restricted to versions 0.22.6 by an explicit requirement, leaving only versions 0.22.6\u001b[39m",
     "output_type": "error",
     "traceback": [
      "\u001b[91mUnsatisfiable requirements detected for package Blosc [a74b3585]:\u001b[39m\n\u001b[91m Blosc [a74b3585] log:\u001b[39m\n\u001b[91m ├─possible versions are: [0.5.1, 0.6.0, 0.7.0] or uninstalled\u001b[39m\n\u001b[91m ├─restricted by julia compatibility requirements to versions: [0.5.1, 0.6.0] or uninstalled\u001b[39m\n\u001b[91m ├─restricted by compatibility requirements with HDF5 [f67ccb44] to versions: 0.5.1\u001b[39m\n\u001b[91m │ └─HDF5 [f67ccb44] log:\u001b[39m\n\u001b[91m │   ├─possible versions are: [0.9.4-0.9.5, 0.10.0-0.10.4, 0.11.0-0.11.1, 0.12.0-0.12.5, 0.13.0-0.13.7, 0.14.0-0.14.3, 0.15.0-0.15.4] or uninstalled\u001b[39m\n\u001b[91m │   ├─restricted by julia compatibility requirements to versions: [0.9.4-0.9.5, 0.10.0-0.10.4, 0.11.0-0.11.1, 0.12.0-0.12.5] or uninstalled\u001b[39m\n\u001b[91m │   └─restricted by compatibility requirements with MAT [23992714] to versions: [0.11.0-0.11.1, 0.12.0-0.12.5]\u001b[39m\n\u001b[91m │     └─MAT [23992714] log:\u001b[39m\n\u001b[91m │       ├─possible versions are: [0.5.0-0.5.1, 0.6.0, 0.7.0, 0.8.0-0.8.1, 0.9.0-0.9.2, 0.10.0-0.10.1] or uninstalled\u001b[39m\n\u001b[91m │       ├─restricted to versions * by an explicit requirement, leaving only versions [0.5.0-0.5.1, 0.6.0, 0.7.0, 0.8.0-0.8.1, 0.9.0-0.9.2, 0.10.0-0.10.1]\u001b[39m\n\u001b[91m │       └─restricted by julia compatibility requirements to versions: [0.5.0-0.5.1, 0.6.0, 0.7.0] or uninstalled, leaving only versions: [0.5.0-0.5.1, 0.6.0, 0.7.0]\u001b[39m\n\u001b[91m └─restricted by compatibility requirements with Compat [34da2185] to versions: [0.6.0, 0.7.0] or uninstalled — no versions left\u001b[39m\n\u001b[91m   └─Compat [34da2185] log:\u001b[39m\n\u001b[91m     ├─possible versions are: [1.0.0-1.0.1, 1.1.0, 1.2.0, 1.3.0, 1.4.0, 1.5.0-1.5.1, 2.0.0, 2.1.0, 2.2.0-2.2.1, 3.0.0, 3.1.0, 3.2.0, 3.3.0-3.3.1, 3.4.0, 3.5.0, 3.6.0, 3.7.0, 3.8.0, 3.9.0-3.9.1, 3.10.0, 3.11.0, 3.12.0, 3.13.0, 3.14.0, 3.15.0, 3.16.0, 3.17.0, 3.18.0, 3.19.0, 3.20.0, 3.21.0, 3.22.0, 3.23.0, 3.24.0, 3.25.0] or uninstalled\u001b[39m\n\u001b[91m     └─restricted by compatibility requirements with DataFrames [a93c6f00] to versions: [3.17.0, 3.18.0, 3.19.0, 3.20.0, 3.21.0, 3.22.0, 3.23.0, 3.24.0, 3.25.0]\u001b[39m\n\u001b[91m       └─DataFrames [a93c6f00] log:\u001b[39m\n\u001b[91m         ├─possible versions are: [0.11.7, 0.12.0, 0.13.0-0.13.1, 0.14.0-0.14.1, 0.15.0-0.15.2, 0.16.0, 0.17.0-0.17.1, 0.18.0-0.18.4, 0.19.0-0.19.4, 0.20.0-0.20.2, 0.21.0-0.21.8, 0.22.0-0.22.6] or uninstalled\u001b[39m\n\u001b[91m         └─restricted to versions 0.22.6 by an explicit requirement, leaving only versions 0.22.6\u001b[39m",
      "",
      "Stacktrace:",
      " [1] #propagate_constraints!#61(::Bool, ::Function, ::Pkg.GraphType.Graph, ::Set{Int64}) at C:\\cygwin\\home\\Administrator\\buildbot\\worker\\package_win64\\build\\usr\\share\\julia\\stdlib\\v1.0\\Pkg\\src\\GraphType.jl:1007",
      " [2] propagate_constraints! at C:\\cygwin\\home\\Administrator\\buildbot\\worker\\package_win64\\build\\usr\\share\\julia\\stdlib\\v1.0\\Pkg\\src\\GraphType.jl:948 [inlined]",
      " [3] #simplify_graph!#121(::Bool, ::Function, ::Pkg.GraphType.Graph, ::Set{Int64}) at C:\\cygwin\\home\\Administrator\\buildbot\\worker\\package_win64\\build\\usr\\share\\julia\\stdlib\\v1.0\\Pkg\\src\\GraphType.jl:1462",
      " [4] simplify_graph! at C:\\cygwin\\home\\Administrator\\buildbot\\worker\\package_win64\\build\\usr\\share\\julia\\stdlib\\v1.0\\Pkg\\src\\GraphType.jl:1462 [inlined] (repeats 2 times)",
      " [5] resolve_versions!(::Pkg.Types.Context, ::Array{Pkg.Types.PackageSpec,1}, ::Nothing) at C:\\cygwin\\home\\Administrator\\buildbot\\worker\\package_win64\\build\\usr\\share\\julia\\stdlib\\v1.0\\Pkg\\src\\Operations.jl:373",
      " [6] resolve_versions! at C:\\cygwin\\home\\Administrator\\buildbot\\worker\\package_win64\\build\\usr\\share\\julia\\stdlib\\v1.0\\Pkg\\src\\Operations.jl:316 [inlined]",
      " [7] #add_or_develop#62(::Array{Base.UUID,1}, ::Symbol, ::Function, ::Pkg.Types.Context, ::Array{Pkg.Types.PackageSpec,1}) at C:\\cygwin\\home\\Administrator\\buildbot\\worker\\package_win64\\build\\usr\\share\\julia\\stdlib\\v1.0\\Pkg\\src\\Operations.jl:1201",
      " [8] #add_or_develop at .\\none:0 [inlined]",
      " [9] #add_or_develop#15(::Symbol, ::Bool, ::Base.Iterators.Pairs{Union{},Union{},Tuple{},NamedTuple{(),Tuple{}}}, ::Function, ::Pkg.Types.Context, ::Array{Pkg.Types.PackageSpec,1}) at C:\\cygwin\\home\\Administrator\\buildbot\\worker\\package_win64\\build\\usr\\share\\julia\\stdlib\\v1.0\\Pkg\\src\\API.jl:69",
      " [10] #add_or_develop at .\\none:0 [inlined]",
      " [11] #add_or_develop#14 at C:\\cygwin\\home\\Administrator\\buildbot\\worker\\package_win64\\build\\usr\\share\\julia\\stdlib\\v1.0\\Pkg\\src\\API.jl:34 [inlined]",
      " [12] #add_or_develop at .\\none:0 [inlined]",
      " [13] #add_or_develop#11 at C:\\cygwin\\home\\Administrator\\buildbot\\worker\\package_win64\\build\\usr\\share\\julia\\stdlib\\v1.0\\Pkg\\src\\API.jl:33 [inlined]",
      " [14] #add_or_develop at .\\none:0 [inlined]",
      " [15] #add_or_develop#10 at C:\\cygwin\\home\\Administrator\\buildbot\\worker\\package_win64\\build\\usr\\share\\julia\\stdlib\\v1.0\\Pkg\\src\\API.jl:32 [inlined]",
      " [16] #add_or_develop at .\\none:0 [inlined]",
      " [17] #add#20 at C:\\cygwin\\home\\Administrator\\buildbot\\worker\\package_win64\\build\\usr\\share\\julia\\stdlib\\v1.0\\Pkg\\src\\API.jl:74 [inlined]",
      " [18] add(::String) at C:\\cygwin\\home\\Administrator\\buildbot\\worker\\package_win64\\build\\usr\\share\\julia\\stdlib\\v1.0\\Pkg\\src\\API.jl:74",
      " [19] top-level scope at In[24]:1"
     ]
    }
   ],
   "source": [
    "Pkg.add(\"MAT\")"
   ]
  },
  {
   "cell_type": "code",
   "execution_count": null,
   "metadata": {},
   "outputs": [],
   "source": []
  },
  {
   "cell_type": "code",
   "execution_count": null,
   "metadata": {},
   "outputs": [],
   "source": []
  },
  {
   "cell_type": "code",
   "execution_count": null,
   "metadata": {},
   "outputs": [],
   "source": []
  }
 ],
 "metadata": {
  "kernelspec": {
   "display_name": "Julia 1.0.5",
   "language": "julia",
   "name": "julia-1.0"
  },
  "language_info": {
   "file_extension": ".jl",
   "mimetype": "application/julia",
   "name": "julia",
   "version": "1.0.5"
  }
 },
 "nbformat": 4,
 "nbformat_minor": 4
}
